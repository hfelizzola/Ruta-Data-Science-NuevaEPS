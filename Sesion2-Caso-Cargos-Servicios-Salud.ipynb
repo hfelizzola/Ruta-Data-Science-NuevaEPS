{
  "nbformat": 4,
  "nbformat_minor": 0,
  "metadata": {
    "colab": {
      "name": "Caso-Costos-Servicios-Salud.ipynb",
      "provenance": [],
      "collapsed_sections": [],
      "toc_visible": true
    },
    "kernelspec": {
      "name": "python3",
      "display_name": "Python 3"
    },
    "language_info": {
      "name": "python"
    }
  },
  "cells": [
    {
      "cell_type": "markdown",
      "metadata": {
        "id": "zikLtsje7oM2"
      },
      "source": [
        "# Caso. Análisis de Costos Servicios de Salud\n",
        "\n",
        "Para que una compañía de seguros gane dinero, necesita recaudar más en primas anuales de lo que gasta en atención médica para sus beneficiarios. Como resultado, las aseguradoras invierten una gran cantidad de tiempo y dinero para desarrollar modelos que pronostiquen con precisión los costos por servicios de salud.\n",
        "\n",
        "En algunos casos los costos son difíciles de estimar porque las condiciones más costosas son raras y aparentemente aleatorias. Aún así, algunas condiciones son más frecuentes para ciertos segmentos de la población. Por ejemplo, el cáncer de pulmón es más probable entre los fumadores que los no fumadores, y la enfermedad cardíaca puede ser más probable entre los obesos.\n",
        "\n",
        "El objetivo de este análisis es utilizar datos de pacientes para estimar los costos de atención médica para dichos segmentos de población. Estas estimaciones podrían usarse para crear tablas actuariales que fijen el precio de las primas anuales más o menos según los costos de tratamiento esperados."
      ]
    },
    {
      "cell_type": "markdown",
      "metadata": {
        "id": "JVbaR6hk8UY-"
      },
      "source": [
        "# Librerías de Python y Carga de Datos\n",
        "\n",
        "Los paquetes o librerías en python tienen incorporadas un conjunto de funciones de alto nivel que permiten manejar estructuras de datos, realizar cálculos matemáticos y estadísticos, generar gráficos, entre otras cosas. Las librerías que vamos utilizar en este módulo son:\n",
        "- **pandas**: es un librería para el manejo de tablas de datos\n",
        "* **numpy**: librería para el manejo de vector, matrices, arreglos. Además, traer incorporado una serie funciones para realizar cálculos matemáticos y estadístico\n",
        "* **scipy**: incorpora una serie de funciones para cálculos matemáticos y estadísticos\n",
        "* **seaborn**: es una librería de alto nivel para el desarrollo de gráficos en python\n",
        "* **matplotlib**: es una librería para el desarrollo gráficos y sus respectivas capas de información"
      ]
    },
    {
      "cell_type": "code",
      "metadata": {
        "id": "JBUWqUEX7YpC"
      },
      "source": [
        "# Cargar librerías\n",
        "\n",
        "# Librerías para el manejo de tablas (data frames)\n",
        "import pandas as pd \n",
        "\n",
        "# Librerías para el manejo de arreglos y calculo matemático y estadístico\n",
        "import numpy as np \n",
        "from scipy import stats \n",
        "\n",
        "# Librerís para visualización de datos\n",
        "import matplotlib.pyplot as plt \n",
        "import seaborn as sns "
      ],
      "execution_count": 1,
      "outputs": []
    },
    {
      "cell_type": "markdown",
      "metadata": {
        "id": "W25VXYUP9NY7"
      },
      "source": [
        "Despues de cargar las libreria ahora se procede a cargar los datos. Vamos a utilizar la función `pd.read_csv()` para cargar el archivo de datos. Dentro del parentesis se debe colocar la ruta donde esta ubicado el archivo."
      ]
    },
    {
      "cell_type": "code",
      "metadata": {
        "colab": {
          "base_uri": "https://localhost:8080/",
          "height": 204
        },
        "id": "AlBk0eo58914",
        "outputId": "e53e3a73-c8d3-4ace-8fec-21c073c8d3a0"
      },
      "source": [
        "datos = pd.read_csv('https://raw.githubusercontent.com/hfelizzola/Ruta-Data-Science-NuevaEPS/main/cargos-servicios-salud.csv')\n",
        "datos.head()"
      ],
      "execution_count": 2,
      "outputs": [
        {
          "output_type": "execute_result",
          "data": {
            "text/html": [
              "<div>\n",
              "<style scoped>\n",
              "    .dataframe tbody tr th:only-of-type {\n",
              "        vertical-align: middle;\n",
              "    }\n",
              "\n",
              "    .dataframe tbody tr th {\n",
              "        vertical-align: top;\n",
              "    }\n",
              "\n",
              "    .dataframe thead th {\n",
              "        text-align: right;\n",
              "    }\n",
              "</style>\n",
              "<table border=\"1\" class=\"dataframe\">\n",
              "  <thead>\n",
              "    <tr style=\"text-align: right;\">\n",
              "      <th></th>\n",
              "      <th>edad</th>\n",
              "      <th>sexo</th>\n",
              "      <th>imc</th>\n",
              "      <th>hijos</th>\n",
              "      <th>fumador</th>\n",
              "      <th>region</th>\n",
              "      <th>cargos</th>\n",
              "    </tr>\n",
              "  </thead>\n",
              "  <tbody>\n",
              "    <tr>\n",
              "      <th>0</th>\n",
              "      <td>19</td>\n",
              "      <td>mujer</td>\n",
              "      <td>27.900</td>\n",
              "      <td>0</td>\n",
              "      <td>si</td>\n",
              "      <td>suroccidente</td>\n",
              "      <td>16884.92</td>\n",
              "    </tr>\n",
              "    <tr>\n",
              "      <th>1</th>\n",
              "      <td>18</td>\n",
              "      <td>hombre</td>\n",
              "      <td>33.770</td>\n",
              "      <td>1</td>\n",
              "      <td>no</td>\n",
              "      <td>suroriente</td>\n",
              "      <td>1725.55</td>\n",
              "    </tr>\n",
              "    <tr>\n",
              "      <th>2</th>\n",
              "      <td>28</td>\n",
              "      <td>hombre</td>\n",
              "      <td>33.000</td>\n",
              "      <td>3</td>\n",
              "      <td>no</td>\n",
              "      <td>suroriente</td>\n",
              "      <td>4449.46</td>\n",
              "    </tr>\n",
              "    <tr>\n",
              "      <th>3</th>\n",
              "      <td>33</td>\n",
              "      <td>hombre</td>\n",
              "      <td>22.705</td>\n",
              "      <td>0</td>\n",
              "      <td>no</td>\n",
              "      <td>noroccidente</td>\n",
              "      <td>21984.47</td>\n",
              "    </tr>\n",
              "    <tr>\n",
              "      <th>4</th>\n",
              "      <td>32</td>\n",
              "      <td>hombre</td>\n",
              "      <td>28.880</td>\n",
              "      <td>0</td>\n",
              "      <td>no</td>\n",
              "      <td>noroccidente</td>\n",
              "      <td>3866.86</td>\n",
              "    </tr>\n",
              "  </tbody>\n",
              "</table>\n",
              "</div>"
            ],
            "text/plain": [
              "   edad    sexo     imc  hijos fumador        region    cargos\n",
              "0    19   mujer  27.900      0      si  suroccidente  16884.92\n",
              "1    18  hombre  33.770      1      no    suroriente   1725.55\n",
              "2    28  hombre  33.000      3      no    suroriente   4449.46\n",
              "3    33  hombre  22.705      0      no  noroccidente  21984.47\n",
              "4    32  hombre  28.880      0      no  noroccidente   3866.86"
            ]
          },
          "metadata": {},
          "execution_count": 2
        }
      ]
    },
    {
      "cell_type": "markdown",
      "metadata": {
        "id": "92KPLBmB-jPh"
      },
      "source": [
        "El archivo [cargos-servicios-salud.csv](https://github.com/hfelizzola/Ruta-Data-Science-NuevaEPS/blob/main/cargos-servicios-salud.csv) incluye 1338 casos de beneficiarios actualmente inscritos en el plan de seguro, con variables que indican las características del paciente, así como los gastos médicos totales cargados al plan para el año calendario. Las características son:\n",
        "\n",
        "- **edad**: es un número entero que indica la edad del beneficiario primario (excluyendo a los mayores de 64 años, ya que generalmente están cubiertos por el gobierno).\n",
        "- **sexo**: este es el género del titular de la póliza, ya sea hombre o mujer.\n",
        "- **imc**: este es el índice de masa corporal (body mass index - bmi), que proporciona una idea de cómo una persona con sobrepeso o bajo peso es relativa a su altura. El bmi es igual al peso (en kilogramos) dividido por la altura (en metros) al cuadrado. Un bmi ideal está dentro del rango de 18.5 a 24.9.\n",
        "- **hijos**: este es un número entero que indica el número de hijos / dependientes cubiertos por el plan de seguro.\n",
        "- **fumador**: Esto es sí o no, dependiendo de si el asegurado fuma regularmente.\n",
        "- **region**: este es el lugar de residencia del beneficiario en los EE. UU., Dividido en cuatro regiones geográficas: noreste, sureste, suroeste o noroeste.\n",
        "- **cargos**: costos médicos cargados al asegurado en el año calendario. Esta es la variable a predecir."
      ]
    },
    {
      "cell_type": "code",
      "metadata": {
        "colab": {
          "base_uri": "https://localhost:8080/"
        },
        "id": "fSVVTY9xCDnd",
        "outputId": "f1e0dbe3-0840-4695-9282-1838c3c8bed9"
      },
      "source": [
        "# Información general de la tabla de datos\n",
        "datos.info()"
      ],
      "execution_count": 3,
      "outputs": [
        {
          "output_type": "stream",
          "name": "stdout",
          "text": [
            "<class 'pandas.core.frame.DataFrame'>\n",
            "RangeIndex: 1338 entries, 0 to 1337\n",
            "Data columns (total 7 columns):\n",
            " #   Column   Non-Null Count  Dtype  \n",
            "---  ------   --------------  -----  \n",
            " 0   edad     1338 non-null   int64  \n",
            " 1   sexo     1338 non-null   object \n",
            " 2   imc      1338 non-null   float64\n",
            " 3   hijos    1338 non-null   int64  \n",
            " 4   fumador  1338 non-null   object \n",
            " 5   region   1338 non-null   object \n",
            " 6   cargos   1338 non-null   float64\n",
            "dtypes: float64(2), int64(2), object(3)\n",
            "memory usage: 73.3+ KB\n"
          ]
        }
      ]
    },
    {
      "cell_type": "markdown",
      "metadata": {
        "id": "CJ46YNW_CN_p"
      },
      "source": [
        "# Análisis Exploratorio por Columna\n",
        "\n",
        "Para desarrollar el análisis exploratorio vamos a utilizar los conceptos vistos en la sesión 1 sobre medidas estadísticas y gráficos."
      ]
    },
    {
      "cell_type": "markdown",
      "metadata": {
        "id": "xOn6KW23CeLa"
      },
      "source": [
        "## Cargos\n",
        "\n",
        "Vamos a comenzar con la variable de interés que son los cargos (costos). Esta es una variable de tipo numérica por tanto vamos utilizar estadísticas como la media, mediana, desviación estándar, cuartiles, sesgo y curtosis para caracterizar la variable. Además, vamos a analizar la distribución utilizando histogramas y gráficos de caja."
      ]
    },
    {
      "cell_type": "markdown",
      "metadata": {
        "id": "j2jVnkl-EZ0t"
      },
      "source": [
        "### Histograma y gráfico de caja\n",
        "\n",
        "- Histograma: `sns.histplot()`\n",
        "- Gráfico de caja: `sns.boxplot()`"
      ]
    },
    {
      "cell_type": "code",
      "metadata": {
        "colab": {
          "base_uri": "https://localhost:8080/",
          "height": 295
        },
        "id": "7yGKnOJpEYGd",
        "outputId": "ed6a1794-77b6-42e9-cb71-e9864fef579b"
      },
      "source": [
        "# Histograma\n",
        "sns.histplot(data=datos, x='cargos') # Se configura el histograma\n",
        "plt.title('Histograma para los cargos por asegurado') # Se agrega titulo al gráfico\n",
        "plt.show() # Mostrar el gráfico"
      ],
      "execution_count": 4,
      "outputs": [
        {
          "output_type": "display_data",
          "data": {
            "image/png": "[encoded data removed]",
            "text/plain": [
              "<Figure size 432x288 with 1 Axes>"
            ]
          },
          "metadata": {
            "needs_background": "light"
          }
        }
      ]
    },
    {
      "cell_type": "markdown",
      "metadata": {
        "id": "LZyNmvdgFgQG"
      },
      "source": [
        "### Medidas de forma\n",
        "\n",
        "* Sesgo: `stats.skew(columna, bias=False)`\n",
        "* Curtosis: `stats.kurtosis(columna, fisher=False, bias=False)`\n",
        "\n",
        "Para acceder a los datos de una columna, colocamos el nombre del objeto y entre corchetes el nombre de la columna:"
      ]
    },
    {
      "cell_type": "code",
      "metadata": {
        "colab": {
          "base_uri": "https://localhost:8080/"
        },
        "id": "D5DmAaUOjR59",
        "outputId": "a0b8615e-b5e3-4e29-fc24-a871fb9d8708"
      },
      "source": [
        "datos['cargos']"
      ],
      "execution_count": 5,
      "outputs": [
        {
          "output_type": "execute_result",
          "data": {
            "text/plain": [
              "0       16884.92\n",
              "1        1725.55\n",
              "2        4449.46\n",
              "3       21984.47\n",
              "4        3866.86\n",
              "          ...   \n",
              "1333    10600.55\n",
              "1334     2205.98\n",
              "1335     1629.83\n",
              "1336     2007.94\n",
              "1337    29141.36\n",
              "Name: cargos, Length: 1338, dtype: float64"
            ]
          },
          "metadata": {},
          "execution_count": 5
        }
      ]
    },
    {
      "cell_type": "code",
      "metadata": {
        "colab": {
          "base_uri": "https://localhost:8080/"
        },
        "id": "SV3u2ShKFYks",
        "outputId": "6fa0d236-40a4-4951-ddc3-c865827e5133"
      },
      "source": [
        "stats.skew(datos['cargos'], bias=False)"
      ],
      "execution_count": 6,
      "outputs": [
        {
          "output_type": "execute_result",
          "data": {
            "text/plain": [
              "1.5158796694851018"
            ]
          },
          "metadata": {},
          "execution_count": 6
        }
      ]
    },
    {
      "cell_type": "code",
      "metadata": {
        "colab": {
          "base_uri": "https://localhost:8080/"
        },
        "id": "nscRv0D2F2vN",
        "outputId": "39c876bf-6e43-4f69-d64f-d9b863077196"
      },
      "source": [
        "stats.kurtosis(datos['cargos'], fisher=False, bias=False)"
      ],
      "execution_count": 7,
      "outputs": [
        {
          "output_type": "execute_result",
          "data": {
            "text/plain": [
              "4.606298669853668"
            ]
          },
          "metadata": {},
          "execution_count": 7
        }
      ]
    },
    {
      "cell_type": "code",
      "metadata": {
        "colab": {
          "base_uri": "https://localhost:8080/",
          "height": 295
        },
        "id": "M6_JKzXXFGCX",
        "outputId": "b96ff69b-55a9-4041-ec63-06cb7c1c5a94"
      },
      "source": [
        "# Gráfico de caja\n",
        "sns.boxplot(data=datos, x='cargos')\n",
        "plt.title('Gráfico de caja para los cargos por asegurado')\n",
        "plt.show()"
      ],
      "execution_count": 8,
      "outputs": [
        {
          "output_type": "display_data",
          "data": {
            "image/png": "[encoded data removed]",
            "text/plain": [
              "<Figure size 432x288 with 1 Axes>"
            ]
          },
          "metadata": {
            "needs_background": "light"
          }
        }
      ]
    },
    {
      "cell_type": "markdown",
      "metadata": {
        "id": "t_gC9WYAC_nd"
      },
      "source": [
        "### Medidas de tendencia central\n",
        "\n",
        "* Media: `np.mean(columna)`\n",
        "* Mediana: `np.median(columna)`\n",
        "* Moda: `stats.mode(columna)`"
      ]
    },
    {
      "cell_type": "code",
      "metadata": {
        "colab": {
          "base_uri": "https://localhost:8080/"
        },
        "id": "gVF2hTwfCdfS",
        "outputId": "156a6862-7c81-40db-852f-9c2a64d3b47f"
      },
      "source": [
        "# Media Aritmética\n",
        "np.mean(datos['cargos'])"
      ],
      "execution_count": 9,
      "outputs": [
        {
          "output_type": "execute_result",
          "data": {
            "text/plain": [
              "13270.422279521654"
            ]
          },
          "metadata": {},
          "execution_count": 9
        }
      ]
    },
    {
      "cell_type": "code",
      "metadata": {
        "colab": {
          "base_uri": "https://localhost:8080/"
        },
        "id": "K6alIZryDS2T",
        "outputId": "60378097-67a6-44fa-8e38-0b82b7c80847"
      },
      "source": [
        "# Media Aritmética\n",
        "np.median(datos['cargos'])"
      ],
      "execution_count": 10,
      "outputs": [
        {
          "output_type": "execute_result",
          "data": {
            "text/plain": [
              "9382.029999999999"
            ]
          },
          "metadata": {},
          "execution_count": 10
        }
      ]
    },
    {
      "cell_type": "markdown",
      "metadata": {
        "id": "f66Q6l8jD3vx"
      },
      "source": [
        "### Medidas de dispersión\n",
        "\n",
        "\n",
        "* Rango: `np.max(columna) - np.min(columna)`\n",
        "* Varianza: `np.var(columna, ddof=1)`\n",
        "* Desviación estándar: `np.std(columna, ddof=1)`"
      ]
    },
    {
      "cell_type": "code",
      "metadata": {
        "colab": {
          "base_uri": "https://localhost:8080/"
        },
        "id": "s0CmwInHECIt",
        "outputId": "74dbe33f-b722-49ae-e0c8-0d24fabad5d7"
      },
      "source": [
        "# Rango\n",
        "np.max(datos['cargos']) - np.min(datos['cargos'])"
      ],
      "execution_count": 11,
      "outputs": [
        {
          "output_type": "execute_result",
          "data": {
            "text/plain": [
              "62648.56"
            ]
          },
          "metadata": {},
          "execution_count": 11
        }
      ]
    },
    {
      "cell_type": "code",
      "metadata": {
        "colab": {
          "base_uri": "https://localhost:8080/"
        },
        "id": "4w81kNa8EGwP",
        "outputId": "5db43671-86f4-4336-edc9-59cb973caa6e"
      },
      "source": [
        "# Varianza\n",
        "np.var(datos['cargos'], ddof=1)"
      ],
      "execution_count": 12,
      "outputs": [
        {
          "output_type": "execute_result",
          "data": {
            "text/plain": [
              "146652373.01644853"
            ]
          },
          "metadata": {},
          "execution_count": 12
        }
      ]
    },
    {
      "cell_type": "code",
      "metadata": {
        "colab": {
          "base_uri": "https://localhost:8080/"
        },
        "id": "g5x04zldEQ9A",
        "outputId": "ff0b4365-697c-4009-b412-60dbd130e1a0"
      },
      "source": [
        "# Desviación estándar\n",
        "np.std(datos['cargos'], ddof=1)"
      ],
      "execution_count": 13,
      "outputs": [
        {
          "output_type": "execute_result",
          "data": {
            "text/plain": [
              "12110.011272350184"
            ]
          },
          "metadata": {},
          "execution_count": 13
        }
      ]
    },
    {
      "cell_type": "markdown",
      "metadata": {
        "id": "A6MDOM0GG73K"
      },
      "source": [
        "### Medidas de posición \n",
        "\n",
        "Para la calcular las medidas de forma se utiliza la función `np.quantile(datos, q=porcentaje)`"
      ]
    },
    {
      "cell_type": "code",
      "metadata": {
        "colab": {
          "base_uri": "https://localhost:8080/"
        },
        "id": "PIgs6y_cGVgz",
        "outputId": "3ef08ed2-f623-4953-e594-6e1f23d58d79"
      },
      "source": [
        "# Calcular los cuartiles Q1 -> 25%, Q2 -> 50%, Q3 -> 75%\n",
        "np.quantile(datos['cargos'], q=[0.25, 0.50, 0.75])"
      ],
      "execution_count": 14,
      "outputs": [
        {
          "output_type": "execute_result",
          "data": {
            "text/plain": [
              "array([ 4740.2875,  9382.03  , 16639.915 ])"
            ]
          },
          "metadata": {},
          "execution_count": 14
        }
      ]
    },
    {
      "cell_type": "markdown",
      "metadata": {
        "id": "p3aJmE-PIZKU"
      },
      "source": [
        "En el resultados anterior los valores corresponden al primer, segundo y tercer cuartil respectivamente."
      ]
    },
    {
      "cell_type": "code",
      "metadata": {
        "colab": {
          "base_uri": "https://localhost:8080/"
        },
        "id": "NmmHbdgUIP_U",
        "outputId": "faca9804-d9cb-4f0d-d4bf-408661519d8e"
      },
      "source": [
        "# Calcular los quintiles Q1 -> 20%, Q2 -> 40%, Q3 -> 60%, Q4 -> 80%\n",
        "# interpolation='midpoint' utiliza el método usado en la presentación para calcular los quintiles y cuartiles, \n",
        "# basado en los puntos medios\n",
        "np.quantile(datos['cargos'], q=[0.20, 0.40, 0.60, 0.80], interpolation='midpoint')"
      ],
      "execution_count": 15,
      "outputs": [
        {
          "output_type": "execute_result",
          "data": {
            "text/plain": [
              "array([ 3992.01 ,  7364.975, 11404.29 , 20256.33 ])"
            ]
          },
          "metadata": {},
          "execution_count": 15
        }
      ]
    },
    {
      "cell_type": "code",
      "metadata": {
        "colab": {
          "base_uri": "https://localhost:8080/"
        },
        "id": "mP7WFj4yInOQ",
        "outputId": "41b7f1d2-5fff-4298-8e05-ae9f0fe9c6c1"
      },
      "source": [
        "# Percentiles\n",
        "## Primero vamos a definir la secuencia de fracciones, esto evita e\n",
        "ps = np.linspace(start=0.1, stop=0.9, num=9)\n",
        "ps"
      ],
      "execution_count": 16,
      "outputs": [
        {
          "output_type": "execute_result",
          "data": {
            "text/plain": [
              "array([0.1, 0.2, 0.3, 0.4, 0.5, 0.6, 0.7, 0.8, 0.9])"
            ]
          },
          "metadata": {},
          "execution_count": 16
        }
      ]
    },
    {
      "cell_type": "code",
      "metadata": {
        "colab": {
          "base_uri": "https://localhost:8080/"
        },
        "id": "0k3rMroAJbqK",
        "outputId": "4bb97f5a-63c1-4ab5-a24f-cccc6efd756a"
      },
      "source": [
        "np.quantile(datos['cargos'], q=ps)\n"
      ],
      "execution_count": 17,
      "outputs": [
        {
          "output_type": "execute_result",
          "data": {
            "text/plain": [
              "array([ 2346.535,  3991.576,  5484.849,  7369.052,  9382.03 , 11399.856,\n",
              "       13767.877, 20260.626, 34831.716])"
            ]
          },
          "metadata": {},
          "execution_count": 17
        }
      ]
    },
    {
      "cell_type": "markdown",
      "metadata": {
        "id": "TDVDKiR7J4tg"
      },
      "source": [
        "A continuación, se presenta una función para realizar un resumen estadístico general de los datos."
      ]
    },
    {
      "cell_type": "code",
      "metadata": {
        "colab": {
          "base_uri": "https://localhost:8080/"
        },
        "id": "CyfY1zNBJ3kN",
        "outputId": "a73fbc74-0864-4e68-f938-8706be7cb27b"
      },
      "source": [
        "datos['cargos'].describe()"
      ],
      "execution_count": 18,
      "outputs": [
        {
          "output_type": "execute_result",
          "data": {
            "text/plain": [
              "count     1338.000000\n",
              "mean     13270.422280\n",
              "std      12110.011272\n",
              "min       1121.870000\n",
              "25%       4740.287500\n",
              "50%       9382.030000\n",
              "75%      16639.915000\n",
              "max      63770.430000\n",
              "Name: cargos, dtype: float64"
            ]
          },
          "metadata": {},
          "execution_count": 18
        }
      ]
    },
    {
      "cell_type": "markdown",
      "metadata": {
        "id": "PTNoys1SKT5W"
      },
      "source": [
        "## Edad"
      ]
    },
    {
      "cell_type": "code",
      "metadata": {
        "colab": {
          "base_uri": "https://localhost:8080/",
          "height": 295
        },
        "id": "0MEfXV57KaGV",
        "outputId": "28f38dd1-ccb7-455b-cbba-ae49130f7c50"
      },
      "source": [
        "# Histograma\n",
        "sns.histplot(data=datos, x='edad') \n",
        "plt.title('Histograma para la edad por asegurado') \n",
        "plt.show() "
      ],
      "execution_count": 19,
      "outputs": [
        {
          "output_type": "display_data",
          "data": {
            "image/png": "[encoded data removed]",
            "text/plain": [
              "<Figure size 432x288 with 1 Axes>"
            ]
          },
          "metadata": {
            "needs_background": "light"
          }
        }
      ]
    },
    {
      "cell_type": "code",
      "metadata": {
        "colab": {
          "base_uri": "https://localhost:8080/",
          "height": 295
        },
        "id": "WKsuubrHKlbr",
        "outputId": "aa2b668b-68fc-485e-8a11-7278bffb1297"
      },
      "source": [
        "# Gráfico de caja\n",
        "sns.boxplot(data=datos, x='edad')\n",
        "plt.title('Gráfico de caja para la edad')\n",
        "plt.show()"
      ],
      "execution_count": 20,
      "outputs": [
        {
          "output_type": "display_data",
          "data": {
            "image/png": "[encoded data removed]",
            "text/plain": [
              "<Figure size 432x288 with 1 Axes>"
            ]
          },
          "metadata": {
            "needs_background": "light"
          }
        }
      ]
    },
    {
      "cell_type": "code",
      "metadata": {
        "colab": {
          "base_uri": "https://localhost:8080/"
        },
        "id": "W8tyRqdKKWM1",
        "outputId": "756b8718-cc4d-4300-def1-1b683ccd4147"
      },
      "source": [
        "datos['edad'].describe()"
      ],
      "execution_count": 21,
      "outputs": [
        {
          "output_type": "execute_result",
          "data": {
            "text/plain": [
              "count    1338.000000\n",
              "mean       39.207025\n",
              "std        14.049960\n",
              "min        18.000000\n",
              "25%        27.000000\n",
              "50%        39.000000\n",
              "75%        51.000000\n",
              "max        64.000000\n",
              "Name: edad, dtype: float64"
            ]
          },
          "metadata": {},
          "execution_count": 21
        }
      ]
    },
    {
      "cell_type": "markdown",
      "metadata": {
        "id": "n5eB0wLPKuhW"
      },
      "source": [
        "## Indice de masa corporal - IMC\n",
        "\n",
        "Desarrolle el análisis exploratorio para el IMC"
      ]
    },
    {
      "cell_type": "code",
      "metadata": {
        "id": "VqF3AOx2K6Cf"
      },
      "source": [
        "# Resumen estadístico: presente un resumen estadístico para el IMC\n"
      ],
      "execution_count": 22,
      "outputs": []
    },
    {
      "cell_type": "code",
      "metadata": {
        "id": "26sO06eYLDkU"
      },
      "source": [
        "# Presente un histograma para el IMC\n"
      ],
      "execution_count": 23,
      "outputs": []
    },
    {
      "cell_type": "code",
      "metadata": {
        "id": "yolh-eReLIT0"
      },
      "source": [
        "# Calcule las medidas de curtosis y sesgo para el IMC\n"
      ],
      "execution_count": 24,
      "outputs": []
    },
    {
      "cell_type": "code",
      "metadata": {
        "id": "VytHmscBLFWr"
      },
      "source": [
        "# Presente un gráfico de caja para el IMC\n"
      ],
      "execution_count": 25,
      "outputs": []
    },
    {
      "cell_type": "markdown",
      "metadata": {
        "id": "o6A9U74-LoCA"
      },
      "source": [
        "## Sexo\n",
        "\n",
        "Como el sexo es una variable categórica entonces vamos a presentar tabla de frecuencia y gráfico de barras."
      ]
    },
    {
      "cell_type": "code",
      "metadata": {
        "colab": {
          "base_uri": "https://localhost:8080/"
        },
        "id": "BiKuh-P4Lz1K",
        "outputId": "a5a49c48-e3c2-430d-8a65-b7ceb40faf46"
      },
      "source": [
        "# Frecuencia\n",
        "datos.value_counts('sexo')"
      ],
      "execution_count": 26,
      "outputs": [
        {
          "output_type": "execute_result",
          "data": {
            "text/plain": [
              "sexo\n",
              "hombre    676\n",
              "mujer     662\n",
              "dtype: int64"
            ]
          },
          "metadata": {},
          "execution_count": 26
        }
      ]
    },
    {
      "cell_type": "code",
      "metadata": {
        "colab": {
          "base_uri": "https://localhost:8080/"
        },
        "id": "lvW7oG1fL7Cb",
        "outputId": "ddff5911-06dc-4c9f-b32e-c97a22520027"
      },
      "source": [
        "# Proporciones\n",
        "datos.value_counts('sexo')/datos.shape[0]"
      ],
      "execution_count": 27,
      "outputs": [
        {
          "output_type": "execute_result",
          "data": {
            "text/plain": [
              "sexo\n",
              "hombre    0.505232\n",
              "mujer     0.494768\n",
              "dtype: float64"
            ]
          },
          "metadata": {},
          "execution_count": 27
        }
      ]
    },
    {
      "cell_type": "code",
      "metadata": {
        "colab": {
          "base_uri": "https://localhost:8080/",
          "height": 295
        },
        "id": "8fBnwuPCMMWn",
        "outputId": "76baf170-e89e-41e6-e846-5e7ff0a9c838"
      },
      "source": [
        "# Gráfico de barras\n",
        "sns.countplot(data=datos, x='sexo')\n",
        "plt.title('Cantidad de hombres y mujeres')\n",
        "plt.show()"
      ],
      "execution_count": 28,
      "outputs": [
        {
          "output_type": "display_data",
          "data": {
            "image/png": "[encoded data removed]",
            "text/plain": [
              "<Figure size 432x288 with 1 Axes>"
            ]
          },
          "metadata": {
            "needs_background": "light"
          }
        }
      ]
    },
    {
      "cell_type": "markdown",
      "metadata": {
        "id": "Ypo85p1Lezzo"
      },
      "source": [
        "## Número de hijos\n",
        "\n",
        "Si bien la variable numero de hijos es númerica, dado que es discreta se puede trabajar como una variable categórica."
      ]
    },
    {
      "cell_type": "code",
      "metadata": {
        "colab": {
          "base_uri": "https://localhost:8080/"
        },
        "id": "bRCqINlYexvb",
        "outputId": "8f7408b9-4c17-4717-8d1f-6df189b45f2d"
      },
      "source": [
        "# Tabla de frecuencia\n",
        "datos.value_counts('hijos', sort=False)"
      ],
      "execution_count": 29,
      "outputs": [
        {
          "output_type": "execute_result",
          "data": {
            "text/plain": [
              "hijos\n",
              "0    574\n",
              "1    324\n",
              "2    240\n",
              "3    157\n",
              "4     25\n",
              "5     18\n",
              "dtype: int64"
            ]
          },
          "metadata": {},
          "execution_count": 29
        }
      ]
    },
    {
      "cell_type": "code",
      "metadata": {
        "colab": {
          "base_uri": "https://localhost:8080/"
        },
        "id": "sFc9JVAwflRV",
        "outputId": "e8ed889d-420e-43bf-ae7b-670e1cf718d1"
      },
      "source": [
        "# Proporciones\n",
        "datos.value_counts('hijos', sort=False)/datos.shape[0]"
      ],
      "execution_count": 30,
      "outputs": [
        {
          "output_type": "execute_result",
          "data": {
            "text/plain": [
              "hijos\n",
              "0    0.428999\n",
              "1    0.242152\n",
              "2    0.179372\n",
              "3    0.117339\n",
              "4    0.018685\n",
              "5    0.013453\n",
              "dtype: float64"
            ]
          },
          "metadata": {},
          "execution_count": 30
        }
      ]
    },
    {
      "cell_type": "code",
      "metadata": {
        "colab": {
          "base_uri": "https://localhost:8080/",
          "height": 295
        },
        "id": "ngYyxuizfvLr",
        "outputId": "ebc42a9e-5901-4430-8324-9d195aae2658"
      },
      "source": [
        "# Gráfico de barras\n",
        "sns.countplot(data=datos, x='hijos')\n",
        "plt.title('Distribución de los asegurados por numero de hijos')\n",
        "plt.show()"
      ],
      "execution_count": 31,
      "outputs": [
        {
          "output_type": "display_data",
          "data": {
            "image/png": "[encoded data removed]",
            "text/plain": [
              "<Figure size 432x288 with 1 Axes>"
            ]
          },
          "metadata": {
            "needs_background": "light"
          }
        }
      ]
    },
    {
      "cell_type": "markdown",
      "metadata": {
        "id": "D3J_zZi2gHVY"
      },
      "source": [
        "## Fumador\n",
        "\n",
        "Haga un análisis exploratorio para la variable fumador"
      ]
    },
    {
      "cell_type": "code",
      "metadata": {
        "id": "o3iG7fULgPyr"
      },
      "source": [
        "# Frecuencia: calcule el numero de asegurados por su condición de furmador\n"
      ],
      "execution_count": 32,
      "outputs": []
    },
    {
      "cell_type": "code",
      "metadata": {
        "id": "Ek6uNlMNgSOt"
      },
      "source": [
        "# Proporciones: calcule la proporción de asegurados por su condición de furmador\n"
      ],
      "execution_count": 33,
      "outputs": []
    },
    {
      "cell_type": "code",
      "metadata": {
        "id": "I2AjU2wAgZQ5"
      },
      "source": [
        "# Gráfico de barras: haga un gráfico de barras que muestre como se distribuyen \n",
        "# los asegurados por su condición de fumador\n"
      ],
      "execution_count": 34,
      "outputs": []
    },
    {
      "cell_type": "markdown",
      "metadata": {
        "id": "gcTssTk-gjDa"
      },
      "source": [
        "## Región\n",
        "Haga un análisis exploratorio para la variable región"
      ]
    },
    {
      "cell_type": "code",
      "metadata": {
        "id": "RdfbksMoguI7"
      },
      "source": [
        "# Frecuencia: calcule el numero de asegurados por región\n",
        "\n"
      ],
      "execution_count": 35,
      "outputs": []
    },
    {
      "cell_type": "code",
      "metadata": {
        "id": "HzJTGWd0hQFK"
      },
      "source": [
        "# Proporciones: calcule la proporción de asegurados por región\n"
      ],
      "execution_count": 36,
      "outputs": []
    },
    {
      "cell_type": "code",
      "metadata": {
        "id": "ddgWc9NihUh9"
      },
      "source": [
        "# Gráfico de barras: haga un gráfico de barras que muestre como se distribuyen \n",
        "# los asegurados por su condición de fumador\n"
      ],
      "execution_count": 37,
      "outputs": []
    }
  ]
}