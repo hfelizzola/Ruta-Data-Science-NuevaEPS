{
  "nbformat": 4,
  "nbformat_minor": 5,
  "metadata": {
    "kernelspec": {
      "display_name": "Python 3",
      "language": "python",
      "name": "python3"
    },
    "language_info": {
      "codemirror_mode": {
        "name": "ipython",
        "version": 3
      },
      "file_extension": ".py",
      "mimetype": "text/x-python",
      "name": "python",
      "nbconvert_exporter": "python",
      "pygments_lexer": "ipython3",
      "version": "3.8.11"
    },
    "colab": {
      "name": "Casos-Cargos-Servicios-Salud.ipynb",
      "provenance": []
    }
  },
  "cells": [
    {
      "cell_type": "markdown",
      "metadata": {
        "id": "7a0f236c"
      },
      "source": [
        "# Caso de estudio. Análisis de Cargos de Servicios de Salud"
      ],
      "id": "7a0f236c"
    },
    {
      "cell_type": "markdown",
      "metadata": {
        "id": "7379ab4e"
      },
      "source": [
        "## Configuración de librerias y carga de datos"
      ],
      "id": "7379ab4e"
    },
    {
      "cell_type": "code",
      "metadata": {
        "id": "9a72e93b"
      },
      "source": [
        "# Cargar librerías\n",
        "import pandas as pd # Libreria para manejo de tablas\n",
        "\n",
        "# \n",
        "import numpy as np # Libreria para computación científica\n",
        "import scipy # Libreria para computación científica\n",
        "\n",
        "# Modelos estadísticos\n",
        "import statsmodels as stat # Librería para modelos estadísticos\n",
        "\n",
        "# Visualización de datos\n",
        "import matplotlib.pyplot as plt # Libreria base para visualización de datos\n",
        "import seaborn as sns # Libreria de alto nivel para visualización de datos"
      ],
      "id": "9a72e93b",
      "execution_count": null,
      "outputs": []
    },
    {
      "cell_type": "code",
      "metadata": {
        "id": "7991ffda",
        "outputId": "1f20ebf4-5b25-4576-fe3b-2326b385ce5a"
      },
      "source": [
        "# Cargar datos\n",
        "df = pd.read_excel('cargos-servicios-salud.xlsx')\n",
        "df"
      ],
      "id": "7991ffda",
      "execution_count": null,
      "outputs": [
        {
          "data": {
            "text/html": [
              "<div>\n",
              "<style scoped>\n",
              "    .dataframe tbody tr th:only-of-type {\n",
              "        vertical-align: middle;\n",
              "    }\n",
              "\n",
              "    .dataframe tbody tr th {\n",
              "        vertical-align: top;\n",
              "    }\n",
              "\n",
              "    .dataframe thead th {\n",
              "        text-align: right;\n",
              "    }\n",
              "</style>\n",
              "<table border=\"1\" class=\"dataframe\">\n",
              "  <thead>\n",
              "    <tr style=\"text-align: right;\">\n",
              "      <th></th>\n",
              "      <th>edad</th>\n",
              "      <th>sexo</th>\n",
              "      <th>imc</th>\n",
              "      <th>hijos</th>\n",
              "      <th>fumador</th>\n",
              "      <th>region</th>\n",
              "      <th>cargos</th>\n",
              "    </tr>\n",
              "  </thead>\n",
              "  <tbody>\n",
              "    <tr>\n",
              "      <th>0</th>\n",
              "      <td>19</td>\n",
              "      <td>mujer</td>\n",
              "      <td>27.900</td>\n",
              "      <td>0</td>\n",
              "      <td>si</td>\n",
              "      <td>suroccidente</td>\n",
              "      <td>16884.92</td>\n",
              "    </tr>\n",
              "    <tr>\n",
              "      <th>1</th>\n",
              "      <td>18</td>\n",
              "      <td>hombre</td>\n",
              "      <td>33.770</td>\n",
              "      <td>1</td>\n",
              "      <td>no</td>\n",
              "      <td>suroriente</td>\n",
              "      <td>1725.55</td>\n",
              "    </tr>\n",
              "    <tr>\n",
              "      <th>2</th>\n",
              "      <td>28</td>\n",
              "      <td>hombre</td>\n",
              "      <td>33.000</td>\n",
              "      <td>3</td>\n",
              "      <td>no</td>\n",
              "      <td>suroriente</td>\n",
              "      <td>4449.46</td>\n",
              "    </tr>\n",
              "    <tr>\n",
              "      <th>3</th>\n",
              "      <td>33</td>\n",
              "      <td>hombre</td>\n",
              "      <td>22.705</td>\n",
              "      <td>0</td>\n",
              "      <td>no</td>\n",
              "      <td>noroccidente</td>\n",
              "      <td>21984.47</td>\n",
              "    </tr>\n",
              "    <tr>\n",
              "      <th>4</th>\n",
              "      <td>32</td>\n",
              "      <td>hombre</td>\n",
              "      <td>28.880</td>\n",
              "      <td>0</td>\n",
              "      <td>no</td>\n",
              "      <td>noroccidente</td>\n",
              "      <td>3866.86</td>\n",
              "    </tr>\n",
              "    <tr>\n",
              "      <th>...</th>\n",
              "      <td>...</td>\n",
              "      <td>...</td>\n",
              "      <td>...</td>\n",
              "      <td>...</td>\n",
              "      <td>...</td>\n",
              "      <td>...</td>\n",
              "      <td>...</td>\n",
              "    </tr>\n",
              "    <tr>\n",
              "      <th>1333</th>\n",
              "      <td>50</td>\n",
              "      <td>hombre</td>\n",
              "      <td>30.970</td>\n",
              "      <td>3</td>\n",
              "      <td>no</td>\n",
              "      <td>noroccidente</td>\n",
              "      <td>10600.55</td>\n",
              "    </tr>\n",
              "    <tr>\n",
              "      <th>1334</th>\n",
              "      <td>18</td>\n",
              "      <td>mujer</td>\n",
              "      <td>31.920</td>\n",
              "      <td>0</td>\n",
              "      <td>no</td>\n",
              "      <td>nororiente</td>\n",
              "      <td>2205.98</td>\n",
              "    </tr>\n",
              "    <tr>\n",
              "      <th>1335</th>\n",
              "      <td>18</td>\n",
              "      <td>mujer</td>\n",
              "      <td>36.850</td>\n",
              "      <td>0</td>\n",
              "      <td>no</td>\n",
              "      <td>suroriente</td>\n",
              "      <td>1629.83</td>\n",
              "    </tr>\n",
              "    <tr>\n",
              "      <th>1336</th>\n",
              "      <td>21</td>\n",
              "      <td>mujer</td>\n",
              "      <td>25.800</td>\n",
              "      <td>0</td>\n",
              "      <td>no</td>\n",
              "      <td>suroccidente</td>\n",
              "      <td>2007.94</td>\n",
              "    </tr>\n",
              "    <tr>\n",
              "      <th>1337</th>\n",
              "      <td>61</td>\n",
              "      <td>mujer</td>\n",
              "      <td>29.070</td>\n",
              "      <td>0</td>\n",
              "      <td>si</td>\n",
              "      <td>noroccidente</td>\n",
              "      <td>29141.36</td>\n",
              "    </tr>\n",
              "  </tbody>\n",
              "</table>\n",
              "<p>1338 rows × 7 columns</p>\n",
              "</div>"
            ],
            "text/plain": [
              "      edad    sexo     imc  hijos fumador        region    cargos\n",
              "0       19   mujer  27.900      0      si  suroccidente  16884.92\n",
              "1       18  hombre  33.770      1      no    suroriente   1725.55\n",
              "2       28  hombre  33.000      3      no    suroriente   4449.46\n",
              "3       33  hombre  22.705      0      no  noroccidente  21984.47\n",
              "4       32  hombre  28.880      0      no  noroccidente   3866.86\n",
              "...    ...     ...     ...    ...     ...           ...       ...\n",
              "1333    50  hombre  30.970      3      no  noroccidente  10600.55\n",
              "1334    18   mujer  31.920      0      no    nororiente   2205.98\n",
              "1335    18   mujer  36.850      0      no    suroriente   1629.83\n",
              "1336    21   mujer  25.800      0      no  suroccidente   2007.94\n",
              "1337    61   mujer  29.070      0      si  noroccidente  29141.36\n",
              "\n",
              "[1338 rows x 7 columns]"
            ]
          },
          "execution_count": 44,
          "metadata": {},
          "output_type": "execute_result"
        }
      ]
    },
    {
      "cell_type": "code",
      "metadata": {
        "id": "ef259158",
        "outputId": "7100f9e7-872d-45b0-fb08-ac03e69374f3"
      },
      "source": [
        "df.rename(columns={'age':'edad','sex':'sexo','bmi':'imc','smoker':'fumador','charges':'cargos','children':'hijos'}, inplace=True)\n",
        "df"
      ],
      "id": "ef259158",
      "execution_count": null,
      "outputs": [
        {
          "data": {
            "text/html": [
              "<div>\n",
              "<style scoped>\n",
              "    .dataframe tbody tr th:only-of-type {\n",
              "        vertical-align: middle;\n",
              "    }\n",
              "\n",
              "    .dataframe tbody tr th {\n",
              "        vertical-align: top;\n",
              "    }\n",
              "\n",
              "    .dataframe thead th {\n",
              "        text-align: right;\n",
              "    }\n",
              "</style>\n",
              "<table border=\"1\" class=\"dataframe\">\n",
              "  <thead>\n",
              "    <tr style=\"text-align: right;\">\n",
              "      <th></th>\n",
              "      <th>edad</th>\n",
              "      <th>sexo</th>\n",
              "      <th>imc</th>\n",
              "      <th>hijos</th>\n",
              "      <th>fumador</th>\n",
              "      <th>region</th>\n",
              "      <th>cargos</th>\n",
              "    </tr>\n",
              "  </thead>\n",
              "  <tbody>\n",
              "    <tr>\n",
              "      <th>0</th>\n",
              "      <td>19</td>\n",
              "      <td>female</td>\n",
              "      <td>27.900</td>\n",
              "      <td>0</td>\n",
              "      <td>yes</td>\n",
              "      <td>southwest</td>\n",
              "      <td>16884.92</td>\n",
              "    </tr>\n",
              "    <tr>\n",
              "      <th>1</th>\n",
              "      <td>18</td>\n",
              "      <td>male</td>\n",
              "      <td>33.770</td>\n",
              "      <td>1</td>\n",
              "      <td>no</td>\n",
              "      <td>southeast</td>\n",
              "      <td>1725.55</td>\n",
              "    </tr>\n",
              "    <tr>\n",
              "      <th>2</th>\n",
              "      <td>28</td>\n",
              "      <td>male</td>\n",
              "      <td>33.000</td>\n",
              "      <td>3</td>\n",
              "      <td>no</td>\n",
              "      <td>southeast</td>\n",
              "      <td>4449.46</td>\n",
              "    </tr>\n",
              "    <tr>\n",
              "      <th>3</th>\n",
              "      <td>33</td>\n",
              "      <td>male</td>\n",
              "      <td>22.705</td>\n",
              "      <td>0</td>\n",
              "      <td>no</td>\n",
              "      <td>northwest</td>\n",
              "      <td>21984.47</td>\n",
              "    </tr>\n",
              "    <tr>\n",
              "      <th>4</th>\n",
              "      <td>32</td>\n",
              "      <td>male</td>\n",
              "      <td>28.880</td>\n",
              "      <td>0</td>\n",
              "      <td>no</td>\n",
              "      <td>northwest</td>\n",
              "      <td>3866.86</td>\n",
              "    </tr>\n",
              "    <tr>\n",
              "      <th>...</th>\n",
              "      <td>...</td>\n",
              "      <td>...</td>\n",
              "      <td>...</td>\n",
              "      <td>...</td>\n",
              "      <td>...</td>\n",
              "      <td>...</td>\n",
              "      <td>...</td>\n",
              "    </tr>\n",
              "    <tr>\n",
              "      <th>1333</th>\n",
              "      <td>50</td>\n",
              "      <td>male</td>\n",
              "      <td>30.970</td>\n",
              "      <td>3</td>\n",
              "      <td>no</td>\n",
              "      <td>northwest</td>\n",
              "      <td>10600.55</td>\n",
              "    </tr>\n",
              "    <tr>\n",
              "      <th>1334</th>\n",
              "      <td>18</td>\n",
              "      <td>female</td>\n",
              "      <td>31.920</td>\n",
              "      <td>0</td>\n",
              "      <td>no</td>\n",
              "      <td>northeast</td>\n",
              "      <td>2205.98</td>\n",
              "    </tr>\n",
              "    <tr>\n",
              "      <th>1335</th>\n",
              "      <td>18</td>\n",
              "      <td>female</td>\n",
              "      <td>36.850</td>\n",
              "      <td>0</td>\n",
              "      <td>no</td>\n",
              "      <td>southeast</td>\n",
              "      <td>1629.83</td>\n",
              "    </tr>\n",
              "    <tr>\n",
              "      <th>1336</th>\n",
              "      <td>21</td>\n",
              "      <td>female</td>\n",
              "      <td>25.800</td>\n",
              "      <td>0</td>\n",
              "      <td>no</td>\n",
              "      <td>southwest</td>\n",
              "      <td>2007.94</td>\n",
              "    </tr>\n",
              "    <tr>\n",
              "      <th>1337</th>\n",
              "      <td>61</td>\n",
              "      <td>female</td>\n",
              "      <td>29.070</td>\n",
              "      <td>0</td>\n",
              "      <td>yes</td>\n",
              "      <td>northwest</td>\n",
              "      <td>29141.36</td>\n",
              "    </tr>\n",
              "  </tbody>\n",
              "</table>\n",
              "<p>1338 rows × 7 columns</p>\n",
              "</div>"
            ],
            "text/plain": [
              "      edad    sexo     imc  hijos fumador     region    cargos\n",
              "0       19  female  27.900      0     yes  southwest  16884.92\n",
              "1       18    male  33.770      1      no  southeast   1725.55\n",
              "2       28    male  33.000      3      no  southeast   4449.46\n",
              "3       33    male  22.705      0      no  northwest  21984.47\n",
              "4       32    male  28.880      0      no  northwest   3866.86\n",
              "...    ...     ...     ...    ...     ...        ...       ...\n",
              "1333    50    male  30.970      3      no  northwest  10600.55\n",
              "1334    18  female  31.920      0      no  northeast   2205.98\n",
              "1335    18  female  36.850      0      no  southeast   1629.83\n",
              "1336    21  female  25.800      0      no  southwest   2007.94\n",
              "1337    61  female  29.070      0     yes  northwest  29141.36\n",
              "\n",
              "[1338 rows x 7 columns]"
            ]
          },
          "execution_count": 23,
          "metadata": {},
          "output_type": "execute_result"
        }
      ]
    },
    {
      "cell_type": "code",
      "metadata": {
        "id": "273e64d1"
      },
      "source": [
        "df['sexo'].replace(['female','male'],['mujer','hombre'], inplace = True)\n",
        "df['fumador'].replace(['yes','si'],['si','no'], inplace = True)\n",
        "df['region'].replace(['southwest','southeast','northwest','northeast'],['suroccidente','suroriente','noroccidente','nororiente'], inplace = True)"
      ],
      "id": "273e64d1",
      "execution_count": null,
      "outputs": []
    },
    {
      "cell_type": "code",
      "metadata": {
        "id": "9d0b0c60",
        "outputId": "9340999e-882d-446c-feef-b972751c4afb"
      },
      "source": [
        "df.value_counts('sexo')"
      ],
      "id": "9d0b0c60",
      "execution_count": null,
      "outputs": [
        {
          "data": {
            "text/plain": [
              "sexo\n",
              "hombre    676\n",
              "mujer     662\n",
              "dtype: int64"
            ]
          },
          "execution_count": 25,
          "metadata": {},
          "output_type": "execute_result"
        }
      ]
    },
    {
      "cell_type": "code",
      "metadata": {
        "id": "004ca306",
        "outputId": "6b6c7dcb-1995-4553-e415-5f9efd0d4b72"
      },
      "source": [
        "df.value_counts('fumador')"
      ],
      "id": "004ca306",
      "execution_count": null,
      "outputs": [
        {
          "data": {
            "text/plain": [
              "fumador\n",
              "no    1064\n",
              "si     274\n",
              "dtype: int64"
            ]
          },
          "execution_count": 26,
          "metadata": {},
          "output_type": "execute_result"
        }
      ]
    },
    {
      "cell_type": "code",
      "metadata": {
        "id": "cbafa16c",
        "outputId": "8b353672-2a16-4972-e7c6-cfaf8b5e9a85"
      },
      "source": [
        "df.value_counts('region')"
      ],
      "id": "cbafa16c",
      "execution_count": null,
      "outputs": [
        {
          "data": {
            "text/plain": [
              "region\n",
              "suroriente      364\n",
              "noroccidente    325\n",
              "suroccidente    325\n",
              "nororiente      324\n",
              "dtype: int64"
            ]
          },
          "execution_count": 27,
          "metadata": {},
          "output_type": "execute_result"
        }
      ]
    },
    {
      "cell_type": "code",
      "metadata": {
        "id": "7a19b5eb",
        "outputId": "4913775a-aa67-4c6c-ec62-9261e6efdce3"
      },
      "source": [
        "sns.histplot(data=df, x='edad')\n",
        "plt.show()"
      ],
      "id": "7a19b5eb",
      "execution_count": null,
      "outputs": [
        {
          "data": {
            "image/png": "[encoded data removed]",
            "text/plain": [
              "<Figure size 640x480 with 1 Axes>"
            ]
          },
          "metadata": {},
          "output_type": "display_data"
        }
      ]
    },
    {
      "cell_type": "code",
      "metadata": {
        "id": "510128ad",
        "outputId": "c11c9302-a4fa-42f7-edad-3982406150c9"
      },
      "source": [
        "sns.histplot(data=df, x='imc', kde=True)\n",
        "plt.show()"
      ],
      "id": "510128ad",
      "execution_count": null,
      "outputs": [
        {
          "data": {
            "image/png": "[encoded data removed]",
            "text/plain": [
              "<Figure size 640x480 with 1 Axes>"
            ]
          },
          "metadata": {},
          "output_type": "display_data"
        }
      ]
    },
    {
      "cell_type": "code",
      "metadata": {
        "id": "026e5f84",
        "outputId": "731b1a4f-8bd9-4a9f-a764-dd4da4e3d5e7"
      },
      "source": [
        "sns.countplot(data=df, x='hijos')\n",
        "plt.show()"
      ],
      "id": "026e5f84",
      "execution_count": null,
      "outputs": [
        {
          "data": {
            "image/png": "[encoded data removed]",
            "text/plain": [
              "<Figure size 640x480 with 1 Axes>"
            ]
          },
          "metadata": {},
          "output_type": "display_data"
        }
      ]
    },
    {
      "cell_type": "code",
      "metadata": {
        "id": "a57d5cc3",
        "outputId": "715c013b-7e18-4502-bf8f-078791bb9c48"
      },
      "source": [
        "sns.countplot(data=df, x='sexo', hue='fumador')\n",
        "plt.show()"
      ],
      "id": "a57d5cc3",
      "execution_count": null,
      "outputs": [
        {
          "data": {
            "image/png": "[encoded data removed]",
            "text/plain": [
              "<Figure size 640x480 with 1 Axes>"
            ]
          },
          "metadata": {},
          "output_type": "display_data"
        }
      ]
    },
    {
      "cell_type": "code",
      "metadata": {
        "id": "f3df7c67",
        "outputId": "f3d8befd-1482-45ca-95a2-afb143544d00"
      },
      "source": [
        "%%time\n",
        "sns.histplot(data=df, x='cargos', kde=True)\n",
        "plt.show()"
      ],
      "id": "f3df7c67",
      "execution_count": null,
      "outputs": [
        {
          "data": {
            "image/png": "[encoded data removed]",
            "text/plain": [
              "<Figure size 640x480 with 1 Axes>"
            ]
          },
          "metadata": {},
          "output_type": "display_data"
        },
        {
          "name": "stdout",
          "output_type": "stream",
          "text": [
            "CPU times: user 276 ms, sys: 8.21 ms, total: 284 ms\n",
            "Wall time: 288 ms\n"
          ]
        }
      ]
    },
    {
      "cell_type": "code",
      "metadata": {
        "id": "4ee37e8f"
      },
      "source": [
        "df_mod = pd.get_dummies(df)"
      ],
      "id": "4ee37e8f",
      "execution_count": null,
      "outputs": []
    },
    {
      "cell_type": "code",
      "metadata": {
        "id": "1ac2a9f1"
      },
      "source": [
        "y = df['cargos']\n",
        "X = df[['edad','sexo','imc','hijos','fumador','region']]\n",
        "X = pd.get_dummies(X)"
      ],
      "id": "1ac2a9f1",
      "execution_count": null,
      "outputs": []
    },
    {
      "cell_type": "code",
      "metadata": {
        "id": "2e4d4f50",
        "outputId": "bdba680a-4c80-4e4a-93fd-5e620fd411ee"
      },
      "source": [
        ""
      ],
      "id": "2e4d4f50",
      "execution_count": null,
      "outputs": [
        {
          "data": {
            "text/plain": [
              "array([[19.  , 27.9 ,  0.  , ...,  0.  ,  1.  ,  0.  ],\n",
              "       [18.  , 33.77,  1.  , ...,  0.  ,  0.  ,  1.  ],\n",
              "       [28.  , 33.  ,  3.  , ...,  0.  ,  0.  ,  1.  ],\n",
              "       ...,\n",
              "       [18.  , 36.85,  0.  , ...,  0.  ,  0.  ,  1.  ],\n",
              "       [21.  , 25.8 ,  0.  , ...,  0.  ,  1.  ,  0.  ],\n",
              "       [61.  , 29.07,  0.  , ...,  0.  ,  0.  ,  0.  ]])"
            ]
          },
          "execution_count": 58,
          "metadata": {},
          "output_type": "execute_result"
        }
      ]
    },
    {
      "cell_type": "code",
      "metadata": {
        "id": "a55532c8"
      },
      "source": [
        "import statsmodels.api as sm\n",
        "import statsmodels.formula.api as smf"
      ],
      "id": "a55532c8",
      "execution_count": null,
      "outputs": []
    },
    {
      "cell_type": "code",
      "metadata": {
        "id": "f5768892"
      },
      "source": [
        "results = sm.OLS(y, X).fit()"
      ],
      "id": "f5768892",
      "execution_count": null,
      "outputs": []
    },
    {
      "cell_type": "code",
      "metadata": {
        "id": "0134c391",
        "outputId": "03f71285-fd4b-4fba-8826-8e81a6123ac3"
      },
      "source": [
        "print(results.summary())"
      ],
      "id": "0134c391",
      "execution_count": null,
      "outputs": [
        {
          "name": "stdout",
          "output_type": "stream",
          "text": [
            "                            OLS Regression Results                            \n",
            "==============================================================================\n",
            "Dep. Variable:                 cargos   R-squared:                       0.751\n",
            "Model:                            OLS   Adj. R-squared:                  0.749\n",
            "Method:                 Least Squares   F-statistic:                     500.8\n",
            "Date:                Sun, 17 Oct 2021   Prob (F-statistic):               0.00\n",
            "Time:                        19:35:24   Log-Likelihood:                -13548.\n",
            "No. Observations:                1338   AIC:                         2.711e+04\n",
            "Df Residuals:                    1329   BIC:                         2.716e+04\n",
            "Df Model:                           8                                         \n",
            "Covariance Type:            nonrobust                                         \n",
            "=======================================================================================\n",
            "                          coef    std err          t      P>|t|      [0.025      0.975]\n",
            "---------------------------------------------------------------------------------------\n",
            "edad                  256.8563     11.899     21.587      0.000     233.514     280.199\n",
            "imc                   339.1935     28.599     11.860      0.000     283.088     395.298\n",
            "hijos                 475.5006    137.804      3.451      0.001     205.163     745.838\n",
            "sexo_hombre          -332.4323    425.031     -0.782      0.434   -1166.237     501.372\n",
            "sexo_mujer           -201.1182    418.353     -0.481      0.631   -1021.823     619.587\n",
            "fumador_no          -1.219e+04    419.605    -29.054      0.000    -1.3e+04   -1.14e+04\n",
            "fumador_si           1.166e+04    457.738     25.468      0.000    1.08e+04    1.26e+04\n",
            "region_noroccidente   100.6575    333.891      0.301      0.763    -554.352     755.667\n",
            "region_nororiente     453.6217    332.155      1.366      0.172    -197.983    1105.226\n",
            "region_suroccidente  -506.4293    351.178     -1.442      0.150   -1195.353     182.494\n",
            "region_suroriente    -581.4005    381.765     -1.523      0.128   -1330.328     167.527\n",
            "==============================================================================\n",
            "Omnibus:                      300.366   Durbin-Watson:                   2.088\n",
            "Prob(Omnibus):                  0.000   Jarque-Bera (JB):              718.887\n",
            "Skew:                           1.211   Prob(JB):                    7.86e-157\n",
            "Kurtosis:                       5.651   Cond. No.                     2.70e+17\n",
            "==============================================================================\n",
            "\n",
            "Notes:\n",
            "[1] Standard Errors assume that the covariance matrix of the errors is correctly specified.\n",
            "[2] The smallest eigenvalue is 4.84e-29. This might indicate that there are\n",
            "strong multicollinearity problems or that the design matrix is singular.\n"
          ]
        }
      ]
    },
    {
      "cell_type": "code",
      "metadata": {
        "id": "801e7497",
        "outputId": "a1c970c0-ab41-431f-d7ff-aac23fac7c38"
      },
      "source": [
        "y_cat = np.where(y > 30000, 1, 0)\n",
        "y_cat"
      ],
      "id": "801e7497",
      "execution_count": null,
      "outputs": [
        {
          "data": {
            "text/plain": [
              "array([0, 0, 0, ..., 0, 0, 0])"
            ]
          },
          "execution_count": 93,
          "metadata": {},
          "output_type": "execute_result"
        }
      ]
    },
    {
      "cell_type": "code",
      "metadata": {
        "id": "91c8718d",
        "outputId": "fc5b419e-a95c-4ca2-8e27-afd4e01efb02"
      },
      "source": [
        "logit_mod = sm.Logit(y_cat, X)\n",
        "logit_res = logit_mod.fit()"
      ],
      "id": "91c8718d",
      "execution_count": null,
      "outputs": [
        {
          "name": "stdout",
          "output_type": "stream",
          "text": [
            "Optimization terminated successfully.\n",
            "         Current function value: 0.110909\n",
            "         Iterations 10\n"
          ]
        }
      ]
    },
    {
      "cell_type": "code",
      "metadata": {
        "id": "835783f7",
        "outputId": "2b1028a2-10ee-48e9-923d-5deaffd8a2ff"
      },
      "source": [
        "print(logit_res.summary())"
      ],
      "id": "835783f7",
      "execution_count": null,
      "outputs": [
        {
          "name": "stdout",
          "output_type": "stream",
          "text": [
            "                           Logit Regression Results                           \n",
            "==============================================================================\n",
            "Dep. Variable:                      y   No. Observations:                 1338\n",
            "Model:                          Logit   Df Residuals:                     1329\n",
            "Method:                           MLE   Df Model:                            8\n",
            "Date:                Sun, 17 Oct 2021   Pseudo R-squ.:                  0.6995\n",
            "Time:                        19:52:47   Log-Likelihood:                -148.40\n",
            "converged:                       True   LL-Null:                       -493.81\n",
            "Covariance Type:            nonrobust   LLR p-value:                6.772e-144\n",
            "=======================================================================================\n",
            "                          coef    std err          z      P>|z|      [0.025      0.975]\n",
            "---------------------------------------------------------------------------------------\n",
            "edad                    0.0228      0.011      2.084      0.037       0.001       0.044\n",
            "imc                     0.3690      0.038      9.708      0.000       0.295       0.444\n",
            "hijos                   0.1219      0.127      0.958      0.338      -0.128       0.371\n",
            "sexo_hombre            -6.1939   5.38e+06  -1.15e-06      1.000   -1.05e+07    1.05e+07\n",
            "sexo_mujer             -6.3216   5.38e+06  -1.18e-06      1.000   -1.05e+07    1.05e+07\n",
            "fumador_no            -10.0502        nan        nan        nan         nan         nan\n",
            "fumador_si             -2.4653        nan        nan        nan         nan         nan\n",
            "region_noroccidente    -3.0880    1.2e+07  -2.58e-07      1.000   -2.35e+07    2.35e+07\n",
            "region_nororiente      -2.8567    1.2e+07  -2.38e-07      1.000   -2.35e+07    2.35e+07\n",
            "region_suroccidente    -3.0847    1.2e+07  -2.57e-07      1.000   -2.35e+07    2.35e+07\n",
            "region_suroriente      -3.4861    1.2e+07  -2.91e-07      1.000   -2.35e+07    2.35e+07\n",
            "=======================================================================================\n",
            "\n",
            "Possibly complete quasi-separation: A fraction 0.14 of observations can be\n",
            "perfectly predicted. This might indicate that there is complete\n",
            "quasi-separation. In this case some parameters will not be identified.\n"
          ]
        }
      ]
    },
    {
      "cell_type": "code",
      "metadata": {
        "id": "21885635",
        "outputId": "eccb66e9-7f2d-43df-ff01-5bf6500bfba0"
      },
      "source": [
        "y_pred = np.where(logit_res.predict(X) > 0.5, 1, 0)\n",
        "y_pred"
      ],
      "id": "21885635",
      "execution_count": null,
      "outputs": [
        {
          "data": {
            "text/plain": [
              "array([0, 0, 0, ..., 0, 0, 1])"
            ]
          },
          "execution_count": 96,
          "metadata": {},
          "output_type": "execute_result"
        }
      ]
    },
    {
      "cell_type": "code",
      "metadata": {
        "id": "0b35bf9d",
        "outputId": "c7cccb43-57cd-4c4b-c77c-49c1cb0fc169"
      },
      "source": [
        "pred = pd.DataFrame({'y_cat':y_cat,'y_pred':y_pred})\n",
        "pred.value_counts(['y_cat','y_pred']).unstack('y_pred')"
      ],
      "id": "0b35bf9d",
      "execution_count": null,
      "outputs": [
        {
          "data": {
            "text/html": [
              "<div>\n",
              "<style scoped>\n",
              "    .dataframe tbody tr th:only-of-type {\n",
              "        vertical-align: middle;\n",
              "    }\n",
              "\n",
              "    .dataframe tbody tr th {\n",
              "        vertical-align: top;\n",
              "    }\n",
              "\n",
              "    .dataframe thead th {\n",
              "        text-align: right;\n",
              "    }\n",
              "</style>\n",
              "<table border=\"1\" class=\"dataframe\">\n",
              "  <thead>\n",
              "    <tr style=\"text-align: right;\">\n",
              "      <th>y_pred</th>\n",
              "      <th>0</th>\n",
              "      <th>1</th>\n",
              "    </tr>\n",
              "    <tr>\n",
              "      <th>y_cat</th>\n",
              "      <th></th>\n",
              "      <th></th>\n",
              "    </tr>\n",
              "  </thead>\n",
              "  <tbody>\n",
              "    <tr>\n",
              "      <th>0</th>\n",
              "      <td>1164</td>\n",
              "      <td>12</td>\n",
              "    </tr>\n",
              "    <tr>\n",
              "      <th>1</th>\n",
              "      <td>19</td>\n",
              "      <td>143</td>\n",
              "    </tr>\n",
              "  </tbody>\n",
              "</table>\n",
              "</div>"
            ],
            "text/plain": [
              "y_pred     0    1\n",
              "y_cat            \n",
              "0       1164   12\n",
              "1         19  143"
            ]
          },
          "execution_count": 102,
          "metadata": {},
          "output_type": "execute_result"
        }
      ]
    },
    {
      "cell_type": "code",
      "metadata": {
        "id": "67097ce6"
      },
      "source": [
        "from statsmodels.stats import weightstats"
      ],
      "id": "67097ce6",
      "execution_count": null,
      "outputs": []
    },
    {
      "cell_type": "code",
      "metadata": {
        "id": "e4d4415d"
      },
      "source": [
        "x = np.random.normal(loc=50, scale=4, size=30)\n",
        "y = np.random.normal(loc=54, scale=4, size=30)\n",
        "ztest = weightstats.CompareMeans(x,y)"
      ],
      "id": "e4d4415d",
      "execution_count": null,
      "outputs": []
    },
    {
      "cell_type": "code",
      "metadata": {
        "id": "15b18417",
        "outputId": "b3931197-2519-404a-a936-869969bd4a2b"
      },
      "source": [
        "ztest.summary(use_t=False, alpha=0.05, usevar=)"
      ],
      "id": "15b18417",
      "execution_count": null,
      "outputs": [
        {
          "data": {
            "text/plain": [
              "<bound method CompareMeans.summary of <statsmodels.stats.weightstats.CompareMeans object at 0x7fb8c84cb340>>"
            ]
          },
          "execution_count": 113,
          "metadata": {},
          "output_type": "execute_result"
        }
      ]
    }
  ]
}